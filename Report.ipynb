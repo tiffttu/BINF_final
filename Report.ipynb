{
 "cells": [
  {
   "cell_type": "code",
   "execution_count": 1,
   "metadata": {},
   "outputs": [],
   "source": [
    "import pandas as pd\n",
    "import matplotlib.pyplot as plt\n",
    "from sklearn import linear_model\n",
    "from sklearn.metrics import mean_squared_error, r2_score\n",
    "from sklearn.model_selection import train_test_split\n",
    "from sklearn.feature_selection import f_regression, SelectKBest, chi2\n",
    "import statsmodels.api as sm\n",
    "import numpy as np"
   ]
  },
  {
   "cell_type": "code",
   "execution_count": 2,
   "metadata": {},
   "outputs": [],
   "source": [
    "data = pd.read_csv (r'clean_data.csv')"
   ]
  },
  {
   "cell_type": "markdown",
   "metadata": {},
   "source": [
    "## Exploratory Analysis"
   ]
  },
  {
   "cell_type": "code",
   "execution_count": 63,
   "metadata": {},
   "outputs": [],
   "source": [
    "def unique(list1): \n",
    "  \n",
    "    # intilize a null list \n",
    "    unique_list = [] \n",
    "      \n",
    "    # traverse for all elements \n",
    "    for x in list1: \n",
    "        # check if exists in unique_list or not \n",
    "        if x not in unique_list: \n",
    "            unique_list.append(x) \n",
    "    # print list \n",
    "    for x in unique_list: \n",
    "        print (x)"
   ]
  },
  {
   "cell_type": "markdown",
   "metadata": {},
   "source": [
    "Top 25 counties with most cases and deaths distributed in the following states: "
   ]
  },
  {
   "cell_type": "code",
   "execution_count": 84,
   "metadata": {},
   "outputs": [
    {
     "data": {
      "text/plain": [
       "Index(['county_x', 'staffed_all_beds', 'staffed_icu_beds', 'licensed_all_beds',\n",
       "       'all_bed_occupancy_rate', 'icu_bed_occupancy_rate', 'population',\n",
       "       'population_20+', 'population_65+',\n",
       "       'staffed_all_beds_[per_1000_people]',\n",
       "       'staffed_all_beds_[per_1000_adults_20+]',\n",
       "       'staffed_all_beds_[per_1000_elderly_65+]',\n",
       "       'staffed_icu_beds_[per_1000_people]',\n",
       "       'staffed_icu_beds_[per_1000_adults_20+]',\n",
       "       'staffed_icu_beds_[per_1000_elderly_65+]',\n",
       "       'licensed_all_beds_[per_1000_people]',\n",
       "       'licensed_all_beds_[per_1000_adults_20+]',\n",
       "       'licensed_all_beds_[per_1000_elderly_65+]', 'location', 'state',\n",
       "       'cases', 'deaths'],\n",
       "      dtype='object')"
      ]
     },
     "execution_count": 84,
     "metadata": {},
     "output_type": "execute_result"
    }
   ],
   "source": [
    "data.columns"
   ]
  },
  {
   "cell_type": "code",
   "execution_count": 87,
   "metadata": {},
   "outputs": [
    {
     "name": "stdout",
     "output_type": "stream",
     "text": [
      "New York\n",
      "Illinois\n",
      "California\n",
      "Michigan\n",
      "New Jersey\n",
      "Pennsylvania\n",
      "Florida\n",
      "Massachusetts\n",
      "Connecticut\n",
      "Louisiana\n",
      "Washington\n"
     ]
    }
   ],
   "source": [
    "data1 = data[['cases', 'deaths', 'state', 'county_x']]\n",
    "top = data1.sort_values(['cases', 'deaths'], ascending=False).head(25)\n",
    "unique(list(top['state']))"
   ]
  },
  {
   "cell_type": "markdown",
   "metadata": {},
   "source": [
    "Top states with most cases and deaths across all counties:"
   ]
  },
  {
   "cell_type": "code",
   "execution_count": 88,
   "metadata": {},
   "outputs": [
    {
     "data": {
      "text/html": [
       "<div>\n",
       "<style scoped>\n",
       "    .dataframe tbody tr th:only-of-type {\n",
       "        vertical-align: middle;\n",
       "    }\n",
       "\n",
       "    .dataframe tbody tr th {\n",
       "        vertical-align: top;\n",
       "    }\n",
       "\n",
       "    .dataframe thead th {\n",
       "        text-align: right;\n",
       "    }\n",
       "</style>\n",
       "<table border=\"1\" class=\"dataframe\">\n",
       "  <thead>\n",
       "    <tr style=\"text-align: right;\">\n",
       "      <th></th>\n",
       "      <th>cases</th>\n",
       "      <th>deaths</th>\n",
       "    </tr>\n",
       "    <tr>\n",
       "      <th>state</th>\n",
       "      <th></th>\n",
       "      <th></th>\n",
       "    </tr>\n",
       "  </thead>\n",
       "  <tbody>\n",
       "    <tr>\n",
       "      <th>New York</th>\n",
       "      <td>114584.0</td>\n",
       "      <td>4685.0</td>\n",
       "    </tr>\n",
       "    <tr>\n",
       "      <th>New Jersey</th>\n",
       "      <td>94820.0</td>\n",
       "      <td>5061.0</td>\n",
       "    </tr>\n",
       "    <tr>\n",
       "      <th>Massachusetts</th>\n",
       "      <td>42090.0</td>\n",
       "      <td>2173.0</td>\n",
       "    </tr>\n",
       "    <tr>\n",
       "      <th>California</th>\n",
       "      <td>37572.0</td>\n",
       "      <td>1425.0</td>\n",
       "    </tr>\n",
       "    <tr>\n",
       "      <th>Pennsylvania</th>\n",
       "      <td>36310.0</td>\n",
       "      <td>1706.0</td>\n",
       "    </tr>\n",
       "    <tr>\n",
       "      <th>Illinois</th>\n",
       "      <td>34563.0</td>\n",
       "      <td>1560.0</td>\n",
       "    </tr>\n",
       "    <tr>\n",
       "      <th>Michigan</th>\n",
       "      <td>33138.0</td>\n",
       "      <td>2785.0</td>\n",
       "    </tr>\n",
       "    <tr>\n",
       "      <th>Florida</th>\n",
       "      <td>28239.0</td>\n",
       "      <td>889.0</td>\n",
       "    </tr>\n",
       "    <tr>\n",
       "      <th>Louisiana</th>\n",
       "      <td>24188.0</td>\n",
       "      <td>1386.0</td>\n",
       "    </tr>\n",
       "    <tr>\n",
       "      <th>Connecticut</th>\n",
       "      <td>21919.0</td>\n",
       "      <td>1537.0</td>\n",
       "    </tr>\n",
       "    <tr>\n",
       "      <th>Texas</th>\n",
       "      <td>21369.0</td>\n",
       "      <td>568.0</td>\n",
       "    </tr>\n",
       "  </tbody>\n",
       "</table>\n",
       "</div>"
      ],
      "text/plain": [
       "                  cases  deaths\n",
       "state                          \n",
       "New York       114584.0  4685.0\n",
       "New Jersey      94820.0  5061.0\n",
       "Massachusetts   42090.0  2173.0\n",
       "California      37572.0  1425.0\n",
       "Pennsylvania    36310.0  1706.0\n",
       "Illinois        34563.0  1560.0\n",
       "Michigan        33138.0  2785.0\n",
       "Florida         28239.0   889.0\n",
       "Louisiana       24188.0  1386.0\n",
       "Connecticut     21919.0  1537.0\n",
       "Texas           21369.0   568.0"
      ]
     },
     "execution_count": 88,
     "metadata": {},
     "output_type": "execute_result"
    }
   ],
   "source": [
    "data1.groupby(['state']).sum().sort_values(['cases', 'deaths'], ascending=False).head(11)"
   ]
  },
  {
   "cell_type": "code",
   "execution_count": 89,
   "metadata": {},
   "outputs": [
    {
     "data": {
      "text/plain": [
       "Text(0,0.5,'deathes')"
      ]
     },
     "execution_count": 89,
     "metadata": {},
     "output_type": "execute_result"
    },
    {
     "data": {
      "image/png": "[encoded data removed]",
      "text/plain": [
       "<Figure size 432x288 with 1 Axes>"
      ]
     },
     "metadata": {
      "needs_background": "light"
     },
     "output_type": "display_data"
    }
   ],
   "source": [
    "groups = top.groupby(\"state\")\n",
    "for name, group in groups:\n",
    "    plt.plot(group[\"cases\"], group[\"deaths\"], marker=\"o\", linestyle=\"\", label=name)\n",
    "plt.legend(loc='best', bbox_to_anchor=(0.9, 0., 0.5, 0.8))\n",
    "plt.title('Top 25 counties by state')\n",
    "plt.xlabel('cases')\n",
    "plt.ylabel('deathes')"
   ]
  },
  {
   "cell_type": "markdown",
   "metadata": {},
   "source": [
    "## Methods\n",
    "1. Model capability using multiple linear regression.  \n",
    "2. Apply multivariate bootstrap techniques with hypothesis testing for model selection.  \n",
    "3. Clustering (hierarchical clustering) for capability classification based on US regions. "
   ]
  },
  {
   "cell_type": "markdown",
   "metadata": {},
   "source": [
    "## 1. Regression\n",
    "Multiple linear regression was conducted on the following variables: population_65+, population, licensed_all_beds, staffed_all_beds, population_20+, and licensed_all_beds_per_1000_people. Variables were selected after running forward selection and backward eliminiation. "
   ]
  }
 ],
 "metadata": {
  "kernelspec": {
   "display_name": "Python (Computational Methods)",
   "language": "python",
   "name": "cm"
  },
  "language_info": {
   "codemirror_mode": {
    "name": "ipython",
    "version": 3
   },
   "file_extension": ".py",
   "mimetype": "text/x-python",
   "name": "python",
   "nbconvert_exporter": "python",
   "pygments_lexer": "ipython3",
   "version": "3.6.10"
  }
 },
 "nbformat": 4,
 "nbformat_minor": 4
}
